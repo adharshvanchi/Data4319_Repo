{
 "metadata": {
  "language_info": {
   "codemirror_mode": {
    "name": "ipython",
    "version": 3
   },
   "file_extension": ".py",
   "mimetype": "text/x-python",
   "name": "python",
   "nbconvert_exporter": "python",
   "pygments_lexer": "ipython3",
   "version": "3.8.5"
  },
  "orig_nbformat": 2,
  "kernelspec": {
   "name": "python385jvsc74a57bd0ae0b58a808d6efb00cd3f913e2a169d6e00d9c4a37e0237e9f6ba62539292673",
   "display_name": "Python 3.8.5 64-bit (conda)"
  }
 },
 "nbformat": 4,
 "nbformat_minor": 2,
 "cells": [
  {
   "source": [
    "## K-Nearest Neighbors on Stars Dataset\n",
    "\n",
    "### Theory\n",
    "\n",
    "The algorithm looks at the $k$ closest datapoints to ($x^i_1,x^i_2$) with unknown $y^i$ and determines which label is the mode of that subset.\n",
    "\n",
    "Advantages:\n",
    "\n",
    "* Simple\n",
    "\n",
    "* No optimization of parameters\n",
    "\n",
    "    - No need to iteratively update the model\n",
    "\n",
    "* Easy to Classify and apply Regression\n",
    "\n",
    "Disadvantages:\n",
    "\n",
    "* Slow\n",
    "\n",
    "    - Computationally Intense\n",
    " \n",
    "*  Sensitive to high dimension feature vectors\n",
    "\n",
    "    - Can be used in conjunction with Principal Component Analysis(PCA) to reduce this\n",
    "\n",
    "\n",
    "\n",
    "\n",
    "### Algorithm\n",
    "\n",
    "1. Find the distance from the chosen coordinates to every other point in the dataset\n",
    "\n",
    "1. Sort them in ascending order and select the first $k$ values and store them in an array.\n",
    "\n",
    "1. Take the array of closest points and find the mode of their labels $y$.\n",
    "\n",
    "1. Return the predicted label $\\hat y$ of the chosen point.\n",
    "\n",
    "\n"
   ],
   "cell_type": "markdown",
   "metadata": {}
  },
  {
   "cell_type": "code",
   "execution_count": 1,
   "metadata": {},
   "outputs": [],
   "source": [
    "import numpy as np\n",
    "import pandas as pd\n",
    "import random\n",
    "import matplotlib.pyplot as plt\n"
   ]
  },
  {
   "cell_type": "code",
   "execution_count": 5,
   "metadata": {},
   "outputs": [],
   "source": [
    "class KNN_Classifier:\n",
    "    def __init__(self, x_data, y_data):\n",
    "        self.x_data = x_data\n",
    "        self.y_data = y_data\n",
    "    \n",
    "    def distance(self,p1,p2):\n",
    "        sum = 0\n",
    "        for i in range(len(p1)):\n",
    "            sum += (p1[i] - p2[i])**2\n",
    "        \n",
    "        return sum**.5\n",
    "    \n",
    "    def KNN(self, p,features, labels, k = 5):\n",
    "        dist_arr = []\n",
    "        for i in range(len(features)):\n",
    "            dist_arr.append((self.distance(p,features[i]),labels[i]))\n",
    "            dist_arr.sort()\n",
    "        return dist_arr[0:k]\n",
    "\n",
    "    def prediction(self,p,features,labels, k = 5, return_str = True):\n",
    "        neighbors = np.asarray(self.KNN(p,features, labels, k), dtype = object)\n",
    "        brown = 0\n",
    "        red = 0\n",
    "        white = 0\n",
    "        MS = 0\n",
    "        super = 0\n",
    "        hyper = 0\n",
    "\n",
    "        for i in range(len(neighbors)):\n",
    "            if neighbors[i][1] == 0:\n",
    "                brown += 1\n",
    "            if neighbors[i][1] == 1:\n",
    "                red += 1\n",
    "            if neighbors[i][1] == 2:\n",
    "                white += 1\n",
    "            if neighbors[i][1] == 3:\n",
    "                MS += 1\n",
    "            if neighbors[i][1] == 4:\n",
    "                super += 1\n",
    "            if neighbors[i][1] == 5:\n",
    "                hyper += 1\n",
    "        if return_str:\n",
    "            temp = {\"Brown Dwarf\":brown, \"Red Dwarf\": red, \"White Dwarf\": white, \"Main Sequence\": MS, \"Supergiant\":super, \"Hypergiant\":hyper}\n",
    "        else:\n",
    "            temp = {0:brown, 1: red, 2: white, 3: MS, 4:super, 5:hyper}\n",
    "\n",
    "        return max(temp, key = temp.get)\n",
    "    \n",
    "    def success_rate(self,k = 5):\n",
    "        knnvec = []\n",
    "        for i in range(len(y_data)):\n",
    "            x = knn.prediction(x_data[i],x_data,y_data, return_str= False)\n",
    "            knnvec.append(x)\n",
    "        return sum(knnvec == y_data)/len(y_data)"
   ]
  },
  {
   "cell_type": "code",
   "execution_count": 6,
   "metadata": {},
   "outputs": [
    {
     "output_type": "execute_result",
     "data": {
      "text/plain": [
       "     Temperature (K)  Luminosity(L/Lo)  Radius(R/Ro)  Absolute magnitude(Mv)  \\\n",
       "0               3068          0.002400        0.1700                   16.12   \n",
       "1               3042          0.000500        0.1542                   16.60   \n",
       "2               2600          0.000300        0.1020                   18.70   \n",
       "3               2800          0.000200        0.1600                   16.65   \n",
       "4               1939          0.000138        0.1030                   20.06   \n",
       "..               ...               ...           ...                     ...   \n",
       "235            38940     374830.000000     1356.0000                   -9.93   \n",
       "236            30839     834042.000000     1194.0000                  -10.63   \n",
       "237             8829     537493.000000     1423.0000                  -10.73   \n",
       "238             9235     404940.000000     1112.0000                  -11.23   \n",
       "239            37882     294903.000000     1783.0000                   -7.80   \n",
       "\n",
       "     Star type Star color Spectral Class  \n",
       "0            0        Red              M  \n",
       "1            0        Red              M  \n",
       "2            0        Red              M  \n",
       "3            0        Red              M  \n",
       "4            0        Red              M  \n",
       "..         ...        ...            ...  \n",
       "235          5       Blue              O  \n",
       "236          5       Blue              O  \n",
       "237          5      White              A  \n",
       "238          5      White              A  \n",
       "239          5       Blue              O  \n",
       "\n",
       "[240 rows x 7 columns]"
      ],
      "text/html": "<div>\n<style scoped>\n    .dataframe tbody tr th:only-of-type {\n        vertical-align: middle;\n    }\n\n    .dataframe tbody tr th {\n        vertical-align: top;\n    }\n\n    .dataframe thead th {\n        text-align: right;\n    }\n</style>\n<table border=\"1\" class=\"dataframe\">\n  <thead>\n    <tr style=\"text-align: right;\">\n      <th></th>\n      <th>Temperature (K)</th>\n      <th>Luminosity(L/Lo)</th>\n      <th>Radius(R/Ro)</th>\n      <th>Absolute magnitude(Mv)</th>\n      <th>Star type</th>\n      <th>Star color</th>\n      <th>Spectral Class</th>\n    </tr>\n  </thead>\n  <tbody>\n    <tr>\n      <th>0</th>\n      <td>3068</td>\n      <td>0.002400</td>\n      <td>0.1700</td>\n      <td>16.12</td>\n      <td>0</td>\n      <td>Red</td>\n      <td>M</td>\n    </tr>\n    <tr>\n      <th>1</th>\n      <td>3042</td>\n      <td>0.000500</td>\n      <td>0.1542</td>\n      <td>16.60</td>\n      <td>0</td>\n      <td>Red</td>\n      <td>M</td>\n    </tr>\n    <tr>\n      <th>2</th>\n      <td>2600</td>\n      <td>0.000300</td>\n      <td>0.1020</td>\n      <td>18.70</td>\n      <td>0</td>\n      <td>Red</td>\n      <td>M</td>\n    </tr>\n    <tr>\n      <th>3</th>\n      <td>2800</td>\n      <td>0.000200</td>\n      <td>0.1600</td>\n      <td>16.65</td>\n      <td>0</td>\n      <td>Red</td>\n      <td>M</td>\n    </tr>\n    <tr>\n      <th>4</th>\n      <td>1939</td>\n      <td>0.000138</td>\n      <td>0.1030</td>\n      <td>20.06</td>\n      <td>0</td>\n      <td>Red</td>\n      <td>M</td>\n    </tr>\n    <tr>\n      <th>...</th>\n      <td>...</td>\n      <td>...</td>\n      <td>...</td>\n      <td>...</td>\n      <td>...</td>\n      <td>...</td>\n      <td>...</td>\n    </tr>\n    <tr>\n      <th>235</th>\n      <td>38940</td>\n      <td>374830.000000</td>\n      <td>1356.0000</td>\n      <td>-9.93</td>\n      <td>5</td>\n      <td>Blue</td>\n      <td>O</td>\n    </tr>\n    <tr>\n      <th>236</th>\n      <td>30839</td>\n      <td>834042.000000</td>\n      <td>1194.0000</td>\n      <td>-10.63</td>\n      <td>5</td>\n      <td>Blue</td>\n      <td>O</td>\n    </tr>\n    <tr>\n      <th>237</th>\n      <td>8829</td>\n      <td>537493.000000</td>\n      <td>1423.0000</td>\n      <td>-10.73</td>\n      <td>5</td>\n      <td>White</td>\n      <td>A</td>\n    </tr>\n    <tr>\n      <th>238</th>\n      <td>9235</td>\n      <td>404940.000000</td>\n      <td>1112.0000</td>\n      <td>-11.23</td>\n      <td>5</td>\n      <td>White</td>\n      <td>A</td>\n    </tr>\n    <tr>\n      <th>239</th>\n      <td>37882</td>\n      <td>294903.000000</td>\n      <td>1783.0000</td>\n      <td>-7.80</td>\n      <td>5</td>\n      <td>Blue</td>\n      <td>O</td>\n    </tr>\n  </tbody>\n</table>\n<p>240 rows × 7 columns</p>\n</div>"
     },
     "metadata": {},
     "execution_count": 6
    }
   ],
   "source": [
    "data = pd.read_csv(\"data/stars.csv\")\n",
    "data"
   ]
  },
  {
   "cell_type": "code",
   "execution_count": 7,
   "metadata": {},
   "outputs": [],
   "source": [
    "x_data = np.asarray(data.iloc[:,[0,1,2,3,5]])\n",
    "for i in range(len(data)):\n",
    "    if x_data[i,4] == 'Blue' or x_data[i,4] == 'Blue ':\n",
    "        x_data[i,4] = 0 #Blue\n",
    "\n",
    "    if x_data[i,4] == 'Blue white' or x_data[i,4] == 'Blue white ' or x_data[i,4] == 'Blue-White' or x_data[i,4] == 'Blue-white' or x_data[i,4] == 'Blue White' :\n",
    "        x_data[i,4] = 1 #Blue White\n",
    "\n",
    "    if x_data[i,4] == 'Orange' or x_data[i,4] == 'Orange-Red' or x_data[i,4] == 'Pale yellow orange':\n",
    "        x_data[i,4] = 2 # Orange\n",
    "    \n",
    "    if x_data[i,4] == 'White' or x_data[i,4] == 'Whitish' or x_data[i,4] == 'white':\n",
    "        x_data[i,4] = 3 #White\n",
    "\n",
    "    if x_data[i,4] == 'White-Yellow' or x_data[i,4] == 'Yellowish' or x_data[i,4] == 'Yellowish White' or x_data[i,4] == 'yellow-white' or x_data[i,4] == 'yellowish' or x_data[i,4] == 'Yellow':\n",
    "        x_data[i,4] = 4 #Yellow\n",
    "\n",
    "    if x_data[i,4] == 'Red':\n",
    "        x_data[i,4] = 5 # Red\n",
    "\n",
    "y_data = np.asarray(data['Star type'])"
   ]
  },
  {
   "cell_type": "code",
   "execution_count": 14,
   "metadata": {},
   "outputs": [
    {
     "output_type": "execute_result",
     "data": {
      "text/plain": [
       "'White Dwarf'"
      ]
     },
     "metadata": {},
     "execution_count": 14
    }
   ],
   "source": [
    "knn = KNN_Classifier(x_data,y_data)\n",
    "knn.prediction(x_data[87],x_data,y_data)"
   ]
  },
  {
   "cell_type": "code",
   "execution_count": 13,
   "metadata": {},
   "outputs": [
    {
     "output_type": "execute_result",
     "data": {
      "text/plain": [
       "0.7875"
      ]
     },
     "metadata": {},
     "execution_count": 13
    }
   ],
   "source": [
    "knn.success_rate()"
   ]
  },
  {
   "source": [
    "Citations:\n",
    "\n",
    "https://www.kaggle.com/deepu1109/star-dataset"
   ],
   "cell_type": "markdown",
   "metadata": {}
  },
  {
   "cell_type": "code",
   "execution_count": null,
   "metadata": {},
   "outputs": [],
   "source": []
  }
 ]
}