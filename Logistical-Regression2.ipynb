{
 "metadata": {
  "language_info": {
   "codemirror_mode": {
    "name": "ipython",
    "version": 3
   },
   "file_extension": ".py",
   "mimetype": "text/x-python",
   "name": "python",
   "nbconvert_exporter": "python",
   "pygments_lexer": "ipython3",
   "version": "3.8.5"
  },
  "orig_nbformat": 2,
  "kernelspec": {
   "name": "python385jvsc74a57bd0ae0b58a808d6efb00cd3f913e2a169d6e00d9c4a37e0237e9f6ba62539292673",
   "display_name": "Python 3.8.5 64-bit (conda)"
  }
 },
 "nbformat": 4,
 "nbformat_minor": 2,
 "cells": [
  {
   "source": [
    "## Logistical Regression on Diabetes Data\n",
    "\n",
    "### Theory\n",
    "\n",
    "#### True label approximation formula\n",
    "$f(w,b) = wx + b$\n",
    "\n",
    "$\\hat y = h_\\theta = \\frac{1}{1 + e^{-wx+b}}$\n",
    "\n",
    "### Update Rules\n",
    "\n",
    "$w = w - \\alpha * dw$\n",
    "\n",
    "$b = b - \\alpha * db$\n",
    "\n",
    "### Algorithm\n",
    "\n",
    "1. Create LogReg class.\n",
    "\n",
    "1. Initialize random $w$ and $b$.\n",
    "\n",
    "1. For each epoch, apply the update rule to both $w$ and $b$. This will result in a trained model.\n",
    "\n",
    "1. For prediction, use the approximation formula on the trained weights and biases and store the predicted labels in an array."
   ],
   "cell_type": "markdown",
   "metadata": {}
  },
  {
   "cell_type": "code",
   "execution_count": 1,
   "metadata": {},
   "outputs": [],
   "source": [
    "import numpy as np\n",
    "import pandas as pd\n",
    "from sklearn.model_selection import train_test_split\n",
    "\n",
    "class LogReg:\n",
    "\n",
    "    def __init__(self, learning_rate = .01, epochs = 1000):\n",
    "        self.lr = learning_rate\n",
    "        self.epochs = epochs\n",
    "        self.weights = None\n",
    "        self.bias = None\n",
    "    \n",
    "    def fit(self,X,y):\n",
    "\n",
    "        samples, features = X.shape\n",
    "\n",
    "        self.weights = np.zeros(features)\n",
    "        self.bias = 0\n",
    "\n",
    "        # grad desc\n",
    "\n",
    "        for _ in range(self.epochs):\n",
    "            \n",
    "            lm = np.dot(X, self.weights) + self.bias\n",
    "            \n",
    "            y_predicted = self._sigmoid(lm)\n",
    "\n",
    "            \n",
    "            dw = (1 / samples) * np.dot(X.T, (y_predicted - y))\n",
    "            db = (1 / samples) * np.sum(y_predicted - y)\n",
    "            \n",
    "            self.weights -= self.lr * dw\n",
    "            self.bias -= self.lr * db\n",
    "        \n",
    "    def predict(self, X):\n",
    "        linear_model = np.dot(X, self.weights) + self.bias\n",
    "        y_predicted = self._sigmoid(linear_model)\n",
    "        y_predicted_cls = [1 if i > 0.5 else 0 for i in y_predicted]\n",
    "        return np.array(y_predicted_cls)\n",
    "\n",
    "    def _sigmoid(self, x):\n",
    "        return 1 / (1 + np.exp(-x))\n",
    "    \n",
    "\n",
    "def accuracy(y_true, y_pred):\n",
    "    accuracy = np.sum(y_true == y_pred) / len(y_true)\n",
    "    return accuracy*100\n",
    "    "
   ]
  },
  {
   "cell_type": "code",
   "execution_count": 2,
   "metadata": {},
   "outputs": [
    {
     "output_type": "stream",
     "name": "stdout",
     "text": [
      "Classification Accuracy: 66.88311688311688 %\n"
     ]
    }
   ],
   "source": [
    "\n",
    "data = pd.read_csv('data/diabetes.csv')\n",
    "X = data.iloc[:,:8]\n",
    "y = data.Outcome\n",
    "\n",
    "X_train, X_test, y_train, y_test = train_test_split(X, y, test_size=0.2, random_state=1234)\n",
    "\n",
    "regressor = LogReg(learning_rate=0.0001, epochs=15000)\n",
    "regressor.fit(X_train, y_train)\n",
    "predictions = regressor.predict(X_test)\n",
    "\n",
    "\n",
    "print(\"Classification Accuracy:\", accuracy(y_test, predictions), \"%\")"
   ]
  },
  {
   "source": [
    "Citations:\n",
    "\n",
    "*Python Engineer, MLfromscratch, (2020), Github Repository*"
   ],
   "cell_type": "markdown",
   "metadata": {}
  },
  {
   "cell_type": "code",
   "execution_count": null,
   "metadata": {},
   "outputs": [],
   "source": []
  }
 ]
}