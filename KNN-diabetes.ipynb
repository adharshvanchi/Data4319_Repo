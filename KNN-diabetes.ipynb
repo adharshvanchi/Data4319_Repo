{
 "metadata": {
  "language_info": {
   "codemirror_mode": {
    "name": "ipython",
    "version": 3
   },
   "file_extension": ".py",
   "mimetype": "text/x-python",
   "name": "python",
   "nbconvert_exporter": "python",
   "pygments_lexer": "ipython3",
   "version": "3.8.5"
  },
  "orig_nbformat": 2,
  "kernelspec": {
   "name": "python385jvsc74a57bd0ae0b58a808d6efb00cd3f913e2a169d6e00d9c4a37e0237e9f6ba62539292673",
   "display_name": "Python 3.8.5 64-bit (conda)"
  }
 },
 "nbformat": 4,
 "nbformat_minor": 2,
 "cells": [
  {
   "source": [
    "## K-Nearest Neighbors on PIMA Diabetes Dataset\n",
    "\n",
    "### Theory\n",
    "\n",
    "The algorithm looks at the $k$ closest datapoints to ($x^i_1,x^i_2$) with unknown $y^i$ and determines which label is the mode of that subset.\n",
    "\n",
    "Advantages:\n",
    "\n",
    "* Simple\n",
    "\n",
    "* No optimization of parameters\n",
    "\n",
    "    - No need to iteratively update the model\n",
    "\n",
    "* Easy to Classify and apply Regression\n",
    "\n",
    "Disadvantages:\n",
    "\n",
    "* Slow\n",
    "\n",
    "    - Computationally Intense\n",
    " \n",
    "*  Sensitive to high dimension feature vectors\n",
    "\n",
    "    - Can be used in conjunction with Principal Component Analysis(PCA) to reduce this\n",
    "\n",
    "\n",
    "\n",
    "\n",
    "### Algorithm\n",
    "\n",
    "1. Find the distance from the chosen coordinates to every other point in the dataset\n",
    "\n",
    "1. Sort them in ascending order and select the first $k$ values and store them in an array.\n",
    "\n",
    "1. Take the array of closest points and find the mode of their labels $y$.\n",
    "\n",
    "1. Return the predicted label $\\hat y$ of the chosen point.\n",
    "\n"
   ],
   "cell_type": "markdown",
   "metadata": {}
  },
  {
   "cell_type": "code",
   "execution_count": 1,
   "metadata": {},
   "outputs": [],
   "source": [
    "import numpy as np\n",
    "import pandas as pd\n",
    "import random\n",
    "import matplotlib.pyplot as plt\n"
   ]
  },
  {
   "cell_type": "code",
   "execution_count": 2,
   "metadata": {},
   "outputs": [
    {
     "output_type": "execute_result",
     "data": {
      "text/plain": [
       "     Pregnancies  Glucose  BloodPressure  SkinThickness  Insulin   BMI  \\\n",
       "0              6      148             72             35        0  33.6   \n",
       "1              1       85             66             29        0  26.6   \n",
       "2              8      183             64              0        0  23.3   \n",
       "3              1       89             66             23       94  28.1   \n",
       "4              0      137             40             35      168  43.1   \n",
       "..           ...      ...            ...            ...      ...   ...   \n",
       "763           10      101             76             48      180  32.9   \n",
       "764            2      122             70             27        0  36.8   \n",
       "765            5      121             72             23      112  26.2   \n",
       "766            1      126             60              0        0  30.1   \n",
       "767            1       93             70             31        0  30.4   \n",
       "\n",
       "     DiabetesPedigreeFunction  Age  Outcome  \n",
       "0                       0.627   50        1  \n",
       "1                       0.351   31        0  \n",
       "2                       0.672   32        1  \n",
       "3                       0.167   21        0  \n",
       "4                       2.288   33        1  \n",
       "..                        ...  ...      ...  \n",
       "763                     0.171   63        0  \n",
       "764                     0.340   27        0  \n",
       "765                     0.245   30        0  \n",
       "766                     0.349   47        1  \n",
       "767                     0.315   23        0  \n",
       "\n",
       "[768 rows x 9 columns]"
      ],
      "text/html": "<div>\n<style scoped>\n    .dataframe tbody tr th:only-of-type {\n        vertical-align: middle;\n    }\n\n    .dataframe tbody tr th {\n        vertical-align: top;\n    }\n\n    .dataframe thead th {\n        text-align: right;\n    }\n</style>\n<table border=\"1\" class=\"dataframe\">\n  <thead>\n    <tr style=\"text-align: right;\">\n      <th></th>\n      <th>Pregnancies</th>\n      <th>Glucose</th>\n      <th>BloodPressure</th>\n      <th>SkinThickness</th>\n      <th>Insulin</th>\n      <th>BMI</th>\n      <th>DiabetesPedigreeFunction</th>\n      <th>Age</th>\n      <th>Outcome</th>\n    </tr>\n  </thead>\n  <tbody>\n    <tr>\n      <th>0</th>\n      <td>6</td>\n      <td>148</td>\n      <td>72</td>\n      <td>35</td>\n      <td>0</td>\n      <td>33.6</td>\n      <td>0.627</td>\n      <td>50</td>\n      <td>1</td>\n    </tr>\n    <tr>\n      <th>1</th>\n      <td>1</td>\n      <td>85</td>\n      <td>66</td>\n      <td>29</td>\n      <td>0</td>\n      <td>26.6</td>\n      <td>0.351</td>\n      <td>31</td>\n      <td>0</td>\n    </tr>\n    <tr>\n      <th>2</th>\n      <td>8</td>\n      <td>183</td>\n      <td>64</td>\n      <td>0</td>\n      <td>0</td>\n      <td>23.3</td>\n      <td>0.672</td>\n      <td>32</td>\n      <td>1</td>\n    </tr>\n    <tr>\n      <th>3</th>\n      <td>1</td>\n      <td>89</td>\n      <td>66</td>\n      <td>23</td>\n      <td>94</td>\n      <td>28.1</td>\n      <td>0.167</td>\n      <td>21</td>\n      <td>0</td>\n    </tr>\n    <tr>\n      <th>4</th>\n      <td>0</td>\n      <td>137</td>\n      <td>40</td>\n      <td>35</td>\n      <td>168</td>\n      <td>43.1</td>\n      <td>2.288</td>\n      <td>33</td>\n      <td>1</td>\n    </tr>\n    <tr>\n      <th>...</th>\n      <td>...</td>\n      <td>...</td>\n      <td>...</td>\n      <td>...</td>\n      <td>...</td>\n      <td>...</td>\n      <td>...</td>\n      <td>...</td>\n      <td>...</td>\n    </tr>\n    <tr>\n      <th>763</th>\n      <td>10</td>\n      <td>101</td>\n      <td>76</td>\n      <td>48</td>\n      <td>180</td>\n      <td>32.9</td>\n      <td>0.171</td>\n      <td>63</td>\n      <td>0</td>\n    </tr>\n    <tr>\n      <th>764</th>\n      <td>2</td>\n      <td>122</td>\n      <td>70</td>\n      <td>27</td>\n      <td>0</td>\n      <td>36.8</td>\n      <td>0.340</td>\n      <td>27</td>\n      <td>0</td>\n    </tr>\n    <tr>\n      <th>765</th>\n      <td>5</td>\n      <td>121</td>\n      <td>72</td>\n      <td>23</td>\n      <td>112</td>\n      <td>26.2</td>\n      <td>0.245</td>\n      <td>30</td>\n      <td>0</td>\n    </tr>\n    <tr>\n      <th>766</th>\n      <td>1</td>\n      <td>126</td>\n      <td>60</td>\n      <td>0</td>\n      <td>0</td>\n      <td>30.1</td>\n      <td>0.349</td>\n      <td>47</td>\n      <td>1</td>\n    </tr>\n    <tr>\n      <th>767</th>\n      <td>1</td>\n      <td>93</td>\n      <td>70</td>\n      <td>31</td>\n      <td>0</td>\n      <td>30.4</td>\n      <td>0.315</td>\n      <td>23</td>\n      <td>0</td>\n    </tr>\n  </tbody>\n</table>\n<p>768 rows × 9 columns</p>\n</div>"
     },
     "metadata": {},
     "execution_count": 2
    }
   ],
   "source": [
    "data = pd.read_csv(\"data/diabetes.csv\")\n",
    "x_data = np.asarray(data.iloc[:,0:8])\n",
    "y_data = np.asarray(data.loc[:,\"Outcome\"])\n",
    "\n",
    "data"
   ]
  },
  {
   "cell_type": "code",
   "execution_count": 3,
   "metadata": {},
   "outputs": [],
   "source": [
    "class KNN_Classifier:\n",
    "    def __init__(self, x_data, y_data):\n",
    "        self.x_data = x_data\n",
    "        self.y_data = y_data\n",
    "    \n",
    "    def distance(self,p1,p2):\n",
    "        sum = 0\n",
    "        for i in range(len(p1)):\n",
    "            sum += (p1[i] - p2[i])**2\n",
    "        \n",
    "        return sum**.5\n",
    "    \n",
    "    def KNN(self, p,features, labels, k = 5):\n",
    "        dist_arr = []\n",
    "        for i in range(len(features)):\n",
    "            dist_arr.append((self.distance(p,features[i]),labels[i]))\n",
    "            dist_arr.sort()\n",
    "        return dist_arr[0:k]\n",
    "\n",
    "    def prediction(self,p,features,labels, k = 5, return_str = True):\n",
    "        neighbors = np.asarray(self.KNN(p,features, labels, k), dtype = object)\n",
    "        d = 0\n",
    "        nd = 0\n",
    "\n",
    "        for i in range(len(neighbors)):\n",
    "            if neighbors[i][1] == 1:\n",
    "                d += 1\n",
    "            if neighbors[i][1] == 0:\n",
    "                nd += 1\n",
    "        if return_str:\n",
    "            temp = {\"Diabetic\":d, \"Non-Diabetic\":nd}\n",
    "        else:\n",
    "            temp = {1:d, 0:nd}\n",
    "\n",
    "        return max(temp, key = temp.get)\n",
    "    \n",
    "    def success_rate(self,k = 5):\n",
    "        knnvec = []\n",
    "        for i in range(len(y_data)):\n",
    "            x = self.prediction(x_data[i],x_data,y_data, return_str = False)\n",
    "            knnvec.append(x)\n",
    "        return (sum(knnvec == y_data)/len(y_data))*100"
   ]
  },
  {
   "cell_type": "code",
   "execution_count": 4,
   "metadata": {},
   "outputs": [],
   "source": [
    "knn = KNN_Classifier(x_data, y_data)"
   ]
  },
  {
   "cell_type": "code",
   "execution_count": 8,
   "metadata": {},
   "outputs": [
    {
     "output_type": "execute_result",
     "data": {
      "text/plain": [
       "80.33854166666666"
      ]
     },
     "metadata": {},
     "execution_count": 8
    }
   ],
   "source": [
    "knn.success_rate()"
   ]
  },
  {
   "source": [
    "Citations:\n",
    "\n",
    "https://www.kaggle.com/uciml/pima-indians-diabetes-database"
   ],
   "cell_type": "markdown",
   "metadata": {}
  },
  {
   "cell_type": "code",
   "execution_count": null,
   "metadata": {},
   "outputs": [],
   "source": []
  }
 ]
}